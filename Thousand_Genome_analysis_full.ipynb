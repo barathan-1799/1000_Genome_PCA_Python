{
  "nbformat": 4,
  "nbformat_minor": 0,
  "metadata": {
    "colab": {
      "provenance": []
    },
    "kernelspec": {
      "name": "python3",
      "display_name": "Python 3"
    },
    "language_info": {
      "name": "python"
    }
  },
  "cells": [
    {
      "cell_type": "code",
      "execution_count": 1,
      "metadata": {
        "id": "XaTy7md14tqQ"
      },
      "outputs": [],
      "source": [
        "import numpy as np\n",
        "import pandas as pd\n",
        "import gc"
      ]
    },
    {
      "cell_type": "code",
      "source": [
        "# Asking user's inputs\n",
        "# Sample responses:\n",
        "# user_vcf_file_path = /content/WES_JH_TM_full_vep.vcf\n",
        "# first_letter_unwanted_sample = T\n",
        "# batch_size = 20\n",
        "# LD_threshold = 0.2\n",
        "# user_data_population = JH\n",
        "\n",
        "# Step 1\n",
        "user_vcf_file_path = str(input(\"(1) What is the path of the VCF file containing your exome data? \"))\n",
        "print(\"- Path of VCF file containing user's exome data:\", user_vcf_file_path)\n",
        "print(\"\")\n",
        "\n",
        "first_letter_unwanted_sample = str(input(\"(2) What is the first letter of the sample IDs for populations that you want to exclude from the analysis? \"))\n",
        "print(\"- First letter of the sample IDs for populations that user wants to exclude from the analysis:\", first_letter_unwanted_sample)\n",
        "print(\"\")\n",
        "\n",
        "# Step 2\n",
        "batch_size = int(input(\"(3) What batch size would you like to use when processing the 1000 Genome data? (< 20 is recommended) \"))\n",
        "print(\"- Batch size for 1000 Genome data processing:\", batch_size)\n",
        "print(\"\")\n",
        "\n",
        "# Step 3\n",
        "LD_threshold = float(input(\"(4) What is the threshold value for Linkage Disequilibrium (LD)? (0.2 is recommended) \"))\n",
        "print(\"- Threshold value for Linkage Disequilibrium (LD):\", LD_threshold)\n",
        "print(\"\")\n",
        "\n",
        "# Step 4\n",
        "user_data_population = str(input(\"(5) What abbreviation would you like to use for the population concerning your exome data? \"))\n",
        "print(\"- Selected abbreviation for the population of user's exome data:\", user_data_population)\n",
        "print(\"\")"
      ],
      "metadata": {
        "colab": {
          "base_uri": "https://localhost:8080/"
        },
        "id": "4gCS0i-cNHtQ",
        "outputId": "fbd38e08-2b7a-4d67-a981-088c7d4eb4db"
      },
      "execution_count": 2,
      "outputs": [
        {
          "output_type": "stream",
          "name": "stdout",
          "text": [
            "(1) What is the path of the VCF file containing your exome data? /content/WES_JH_TM_full_vep.vcf\n",
            "- Path of VCF file containing user's exome data: /content/WES_JH_TM_full_vep.vcf\n",
            "\n",
            "(2) What is the first letter of the sample IDs for populations that you want to exclude from the analysis? T\n",
            "- First letter of the sample IDs for populations that user wants to exclude from the analysis: T\n",
            "\n",
            "(3) What batch size would you like to use when processing the 1000 Genome data? (< 20 is recommended) 20\n",
            "- Batch size for 1000 Genome data processing: 20\n",
            "\n",
            "(4) What is the threshold value for Linkage Disequilibrium (LD)? (0.2 is recommended) 0.2\n",
            "- Threshold value for Linkage Disequilibrium (LD): 0.2\n",
            "\n",
            "(5) What abbreviation would you like to use for the population concerning your exome data? JH\n",
            "- Selected abbreviation for the population of user's exome data: JH\n",
            "\n"
          ]
        }
      ]
    },
    {
      "cell_type": "code",
      "source": [
        "import numpy as np\n",
        "import pandas as pd\n",
        "import gc\n",
        "\n",
        "# Step 1: Extracting and processing user's exome VCF data\n",
        "from stepOne_user_file_processor import user_file_processor\n",
        "\n",
        "print(\"Step 1:\")\n",
        "df2 = user_file_processor(user_vcf_file_path, first_letter_unwanted_sample)\n",
        "gc.collect()\n",
        "\n",
        "# Step 2: Extracting SNPs from 1000 Genome data\n",
        "from stepTwo_Thousand_Genome_SNP_extractor_v3 import Thousand_Genome_SNP_extractor\n",
        "\n",
        "\n",
        "print(\"Step 2:\")\n",
        "# Specifying path for csv file of user's processed exome data\n",
        "#user_file_path = \"/content/User_Exome_Analysis.csv\"\n",
        "user_file_path = \"/content/Jehai_Exome_Analysis_Step4_v2.csv\"\n",
        "\n",
        "# Specifying the list of chromosomes to be examined\n",
        "chr_num_list = []\n",
        "\n",
        "for chr_num in range(1, 23):\n",
        "  chr_num_list.append(chr_num)\n",
        "\n",
        "  if chr_num == 22:\n",
        "    chr_num_list = list(map(str, chr_num_list))\n",
        "    chr_num_list.append(\"X\")\n",
        "\n",
        "# Storing the title of csv files containing extracted SNPs for each chromosome in a list\n",
        "SNP_extracted_list = []\n",
        "\n",
        "for chr in chr_num_list:\n",
        "  gc.collect()\n",
        "  csv_title = Thousand_Genome_SNP_extractor(chr, user_file_path, batch_size)\n",
        "  SNP_extracted_list.append(csv_title)\n",
        "\n",
        "# Step 3: Processing data of SNPs from 1000 Genome data\n",
        "from stepThree_Thousand_Genome_data_processor import Thousand_Genome_data_processor\n",
        "\n",
        "print(\"Step 3:\")\n",
        "\n",
        "ID_to_population_file_list = [\"/content/AFR_373509-SampleGenotypes-Homo_sapiens_Variation_Sample_rs1143634.csv\",\n",
        "             \"/content/AMR_373510-SampleGenotypes-Homo_sapiens_Variation_Sample_rs1143634.csv\",\n",
        "             \"/content/EAS_373518-SampleGenotypes-Homo_sapiens_Variation_Sample_rs1143634.csv\",\n",
        "             \"/content/EUR_373520-SampleGenotypes-Homo_sapiens_Variation_Sample_rs1143634.csv\",\n",
        "             \"/content/SAS_373535-SampleGenotypes-Homo_sapiens_Variation_Sample_rs1143634.csv\"]\n",
        "\n",
        "df_10_list = Thousand_Genome_data_processor(SNP_extracted_list, ID_to_population_file_list, LD_threshold)\n",
        "gc.collect()\n",
        "\n",
        "# Step 4: Compiling SNPs from 1000 Genome data and user's exome data\n",
        "from stepFour_Thousand_Genome_data_compiler import Thousand_Genome_data_compiler\n",
        "\n",
        "print(\"Step 4:\")\n",
        "\n",
        "user_data_df = pd.read_csv(user_file_path)\n",
        "\n",
        "df_final_transposed = Thousand_Genome_data_compiler(user_file_path, df_10_list, user_data_population)\n",
        "del df_10_list\n",
        "gc.collect()\n",
        "\n",
        "# Step 5: Conducting 2D and 3D PCA on the compiled data\n",
        "from stepFive_Thousand_Genome_PCA import Thousand_Genome_PCA\n",
        "\n",
        "Thousand_Genome_PCA(df_final_transposed, user_data_population)"
      ],
      "metadata": {
        "colab": {
          "base_uri": "https://localhost:8080/"
        },
        "id": "PveSvfHl-o_z",
        "outputId": "bb29511d-242d-4473-a4a9-cebe11fe0782"
      },
      "execution_count": null,
      "outputs": [
        {
          "output_type": "stream",
          "name": "stdout",
          "text": [
            "Step 1:\n",
            "=====================================================================================================================\n",
            "Before removing unnecessary samples:  77820 SNPs and 79 samples.\n",
            "After removing unnecessary samples:  77820 SNPs and 34 samples.\n",
            "After removing INDELS:  75176 SNPs.\n",
            "- Genotypes have been encoded as numerical values successfully!\n"
          ]
        }
      ]
    }
  ]
}